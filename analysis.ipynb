{
 "cells": [
  {
   "cell_type": "markdown",
   "metadata": {},
   "source": [
    "# Data Analysis on Pitchfork Music Reviews\n",
    "\n",
    "## Table of Contents\n",
    "- Introduction\n",
    "- Characteristics of the Dataset\n",
    "- How are review scores distributed?\n",
    "- Genres\n",
    "\t- What's the most reviewed genre?\n",
    "\t- What's the highest rated genre?\n",
    "\t- ANOVA Test on the Top 3 Most Revieved Genres\n",
    "\t- What was the highest rated genre of each year?\n",
    "- Reviews Over Time\n",
    "\t- How did the average review score change over the years?\n",
    "- Labels\n",
    "\t- Which labels perform well on Pitchfork?\n",
    "\t- Comparing Performance of Independent Labels vs. Major Labels\n",
    "\t- Independent Z-Test on Major and Independent Groups\n",
    "- Conclusion\n",
    "\n",
    "## Introduction\n",
    "\n",
    "The [dataset](https://www.kaggle.com/nolanbconaway/pitchfork-data) used in this analysis contains data on 18 393 reviews from the music review site [Pitchfork](https://pitchfork.com). Analysis of this data can be used to show bias towards certain genres, artists, and labels. Furthermore, it can be used to confirm or deny trends in reviews over 18 years. As one of the most well known sites for music reviews, and with a large influence on popular opinion, analysis of these reviews could show whether or not it can be trusted as an authoritative review site.\n",
    "\n",
    "## Characteristics of the Dataset\n",
    "\n",
    "The dataset is divided into 6 separate tables since some reviews require multiple entries for a single column (ex: some reviews have multiple artists, genres, labels, and years). There are 17 unique columns over all the tables and 18 393 rows on the main reviews table."
   ]
  },
  {
   "cell_type": "code",
   "execution_count": 1,
   "metadata": {},
   "outputs": [],
   "source": [
    "import sqlite3\n",
    "import pandas as pd\n",
    "import numpy as np\n",
    "import matplotlib.pyplot as pl\n",
    "from functools import reduce\n",
    "from scipy import stats\n",
    "from statsmodels.stats.multicomp import pairwise_tukeyhsd\n",
    "\n",
    "connection = sqlite3.connect('pitchfork-data/database.sqlite')\n",
    "\n",
    "# Creating DataFrames for each table\n",
    "artists = pd.read_sql_query('SELECT * FROM artists', connection)\n",
    "reviews = pd.read_sql_query('SELECT * FROM reviews', connection)\n",
    "genres = pd.read_sql_query('SELECT * FROM genres', connection)\n",
    "labels = pd.read_sql_query('SELECT * FROM labels', connection)\n",
    "years = pd.read_sql_query('SELECT * FROM years', connection)\n",
    "content = pd.read_sql_query('SELECT * FROM content', connection)"
   ]
  },
  {
   "cell_type": "code",
   "execution_count": 2,
   "metadata": {},
   "outputs": [],
   "source": [
    "# Special colour for graphs\n",
    "p4k_red = '#ff3530'"
   ]
  },
  {
   "cell_type": "markdown",
   "metadata": {},
   "source": [
    "# How are review scores distributed?\n",
    "\n",
    "We can see that review scores follow a roughly normal distribution centered over a mean score of $7.006$ with a standard deviation of $1.294$."
   ]
  },
  {
   "cell_type": "code",
   "execution_count": 3,
   "metadata": {},
   "outputs": [
    {
     "data": {
      "text/plain": [
       "count    18393.000000\n",
       "mean         7.005779\n",
       "std          1.293675\n",
       "min          0.000000\n",
       "25%          6.400000\n",
       "50%          7.200000\n",
       "75%          7.800000\n",
       "max         10.000000\n",
       "Name: score, dtype: float64"
      ]
     },
     "execution_count": 3,
     "metadata": {},
     "output_type": "execute_result"
    }
   ],
   "source": [
    "reviews['score'].describe()"
   ]
  },
  {
   "cell_type": "markdown",
   "metadata": {},
   "source": [
    "We use pyplot to plot a histogram of review scores."
   ]
  },
  {
   "cell_type": "code",
   "execution_count": 4,
   "metadata": {},
   "outputs": [
    {
     "data": {
      "image/png": "[encoded data removed]",
      "text/plain": [
       "<Figure size 432x288 with 1 Axes>"
      ]
     },
     "metadata": {},
     "output_type": "display_data"
    }
   ],
   "source": [
    "pl.hist(reviews['score'], bins=101, color=p4k_red)\n",
    "pl.title('Histogram of Review Scores')\n",
    "pl.xlabel('Score')\n",
    "pl.ylabel('Number of Reviews');"
   ]
  },
  {
   "cell_type": "markdown",
   "metadata": {},
   "source": [
    "# Genres\n",
    "\n",
    "## What's the most reviewed genre?\n",
    "\n",
    "Rock music is by far the most reviewed genre on the site. Rock music has more than twice the amount of reviews as electronic music, which is the second most reviewed genre."
   ]
  },
  {
   "cell_type": "code",
   "execution_count": 5,
   "metadata": {},
   "outputs": [
    {
     "data": {
      "text/html": [
       "<div>\n",
       "<style scoped>\n",
       "    .dataframe tbody tr th:only-of-type {\n",
       "        vertical-align: middle;\n",
       "    }\n",
       "\n",
       "    .dataframe tbody tr th {\n",
       "        vertical-align: top;\n",
       "    }\n",
       "\n",
       "    .dataframe thead th {\n",
       "        text-align: right;\n",
       "    }\n",
       "</style>\n",
       "<table border=\"1\" class=\"dataframe\">\n",
       "  <thead>\n",
       "    <tr style=\"text-align: right;\">\n",
       "      <th></th>\n",
       "      <th>Number of Reviews</th>\n",
       "    </tr>\n",
       "    <tr>\n",
       "      <th>Genre</th>\n",
       "      <th></th>\n",
       "    </tr>\n",
       "  </thead>\n",
       "  <tbody>\n",
       "    <tr>\n",
       "      <th>electronic</th>\n",
       "      <td>3874</td>\n",
       "    </tr>\n",
       "    <tr>\n",
       "      <th>experimental</th>\n",
       "      <td>1815</td>\n",
       "    </tr>\n",
       "    <tr>\n",
       "      <th>folk/country</th>\n",
       "      <td>685</td>\n",
       "    </tr>\n",
       "    <tr>\n",
       "      <th>global</th>\n",
       "      <td>219</td>\n",
       "    </tr>\n",
       "    <tr>\n",
       "      <th>jazz</th>\n",
       "      <td>435</td>\n",
       "    </tr>\n",
       "    <tr>\n",
       "      <th>metal</th>\n",
       "      <td>862</td>\n",
       "    </tr>\n",
       "    <tr>\n",
       "      <th>pop/r&amp;b</th>\n",
       "      <td>1432</td>\n",
       "    </tr>\n",
       "    <tr>\n",
       "      <th>rap</th>\n",
       "      <td>1559</td>\n",
       "    </tr>\n",
       "    <tr>\n",
       "      <th>rock</th>\n",
       "      <td>9438</td>\n",
       "    </tr>\n",
       "  </tbody>\n",
       "</table>\n",
       "</div>"
      ],
      "text/plain": [
       "              Number of Reviews\n",
       "Genre                          \n",
       "electronic                 3874\n",
       "experimental               1815\n",
       "folk/country                685\n",
       "global                      219\n",
       "jazz                        435\n",
       "metal                       862\n",
       "pop/r&b                    1432\n",
       "rap                        1559\n",
       "rock                       9438"
      ]
     },
     "execution_count": 5,
     "metadata": {},
     "output_type": "execute_result"
    }
   ],
   "source": [
    "# Merge the reviews with genres and group by genre.\n",
    "# Only keep the score column and count the entries per group.\n",
    "num_genre_reviews = reviews.merge(genres, on='reviewid').groupby('genre')['score'].count()\n",
    "num_genre_reviews_pd = pd.DataFrame(num_genre_reviews).reset_index()\n",
    "num_genre_reviews_pd.columns = ['Genre', 'Number of Reviews']\n",
    "num_genre_reviews_pd.set_index('Genre')"
   ]
  },
  {
   "cell_type": "code",
   "execution_count": 6,
   "metadata": {},
   "outputs": [
    {
     "data": {
      "image/png": "[encoded data removed]",
      "text/plain": [
       "<Figure size 432x288 with 1 Axes>"
      ]
     },
     "metadata": {},
     "output_type": "display_data"
    }
   ],
   "source": [
    "pl.bar(x=num_genre_reviews.index, height=num_genre_reviews, color=p4k_red)\n",
    "pl.xticks(rotation=90)\n",
    "pl.title('Number of Reviews per Genre')\n",
    "pl.xlabel('Genre')\n",
    "pl.ylabel('Number of Reviews');"
   ]
  },
  {
   "cell_type": "markdown",
   "metadata": {},
   "source": [
    "## What's the highest rated genre?\n",
    "\n",
    "All of the genres tend to have an average score between about $6.5$ and $7.5$. Although global music has the highest rating, it is also the least reviewed genre, so individual scores have a higher influence on the genre mean than in other genres.\n",
    "\n",
    "Between the top 3 most reviewed genres (rock, electronic, experimental), there is sufficient evidence at a $0.05$ significance level that their mean scores differ."
   ]
  },
  {
   "cell_type": "code",
   "execution_count": 7,
   "metadata": {},
   "outputs": [
    {
     "data": {
      "text/html": [
       "<div>\n",
       "<style scoped>\n",
       "    .dataframe tbody tr th:only-of-type {\n",
       "        vertical-align: middle;\n",
       "    }\n",
       "\n",
       "    .dataframe tbody tr th {\n",
       "        vertical-align: top;\n",
       "    }\n",
       "\n",
       "    .dataframe thead th {\n",
       "        text-align: right;\n",
       "    }\n",
       "</style>\n",
       "<table border=\"1\" class=\"dataframe\">\n",
       "  <thead>\n",
       "    <tr style=\"text-align: right;\">\n",
       "      <th></th>\n",
       "      <th>Mean Score</th>\n",
       "    </tr>\n",
       "    <tr>\n",
       "      <th>Genre</th>\n",
       "      <th></th>\n",
       "    </tr>\n",
       "  </thead>\n",
       "  <tbody>\n",
       "    <tr>\n",
       "      <th>electronic</th>\n",
       "      <td>6.920702</td>\n",
       "    </tr>\n",
       "    <tr>\n",
       "      <th>experimental</th>\n",
       "      <td>7.336694</td>\n",
       "    </tr>\n",
       "    <tr>\n",
       "      <th>folk/country</th>\n",
       "      <td>7.202190</td>\n",
       "    </tr>\n",
       "    <tr>\n",
       "      <th>global</th>\n",
       "      <td>7.429680</td>\n",
       "    </tr>\n",
       "    <tr>\n",
       "      <th>jazz</th>\n",
       "      <td>7.303908</td>\n",
       "    </tr>\n",
       "    <tr>\n",
       "      <th>metal</th>\n",
       "      <td>6.950000</td>\n",
       "    </tr>\n",
       "    <tr>\n",
       "      <th>pop/r&amp;b</th>\n",
       "      <td>6.883799</td>\n",
       "    </tr>\n",
       "    <tr>\n",
       "      <th>rap</th>\n",
       "      <td>6.900513</td>\n",
       "    </tr>\n",
       "    <tr>\n",
       "      <th>rock</th>\n",
       "      <td>6.942011</td>\n",
       "    </tr>\n",
       "  </tbody>\n",
       "</table>\n",
       "</div>"
      ],
      "text/plain": [
       "              Mean Score\n",
       "Genre                   \n",
       "electronic      6.920702\n",
       "experimental    7.336694\n",
       "folk/country    7.202190\n",
       "global          7.429680\n",
       "jazz            7.303908\n",
       "metal           6.950000\n",
       "pop/r&b         6.883799\n",
       "rap             6.900513\n",
       "rock            6.942011"
      ]
     },
     "execution_count": 7,
     "metadata": {},
     "output_type": "execute_result"
    }
   ],
   "source": [
    "mean_genre_scores = reviews.merge(genres, on='reviewid').groupby('genre')['score'].mean()\n",
    "mean_genre_scores_pd = pd.DataFrame(mean_genre_scores).reset_index()\n",
    "mean_genre_scores_pd.columns = ['Genre', 'Mean Score']\n",
    "mean_genre_scores_pd.set_index('Genre')"
   ]
  },
  {
   "cell_type": "code",
   "execution_count": 8,
   "metadata": {},
   "outputs": [
    {
     "data": {
      "image/png": "[encoded data removed]",
      "text/plain": [
       "<Figure size 432x288 with 1 Axes>"
      ]
     },
     "metadata": {},
     "output_type": "display_data"
    }
   ],
   "source": [
    "pl.bar(x=mean_genre_scores.index, height=mean_genre_scores, color=p4k_red)\n",
    "pl.xticks(rotation=90)\n",
    "pl.title('Mean Review Score by Genre')\n",
    "pl.xlabel('Genre')\n",
    "pl.ylabel('Mean Review Score')\n",
    "pl.ylim(6, 8);"
   ]
  },
  {
   "cell_type": "code",
   "execution_count": 9,
   "metadata": {},
   "outputs": [
    {
     "name": "stdout",
     "output_type": "stream",
     "text": [
      "Highest rated genre: global\n"
     ]
    }
   ],
   "source": [
    "# Use idxmax() to find which index has the highest value\n",
    "print('Highest rated genre:', mean_genre_scores.idxmax())"
   ]
  },
  {
   "cell_type": "code",
   "execution_count": 10,
   "metadata": {},
   "outputs": [],
   "source": [
    "grouped = reviews.merge(genres, on='reviewid').groupby('genre')['score']\n",
    "# Create an array of the scores of each genre\n",
    "scores_by_genre = [grouped.get_group(gen) for gen in grouped.groups]"
   ]
  },
  {
   "cell_type": "code",
   "execution_count": 11,
   "metadata": {},
   "outputs": [
    {
     "data": {
      "image/png": "[encoded data removed]",
      "text/plain": [
       "<Figure size 432x288 with 1 Axes>"
      ]
     },
     "metadata": {},
     "output_type": "display_data"
    }
   ],
   "source": [
    "# Graph a histogram for each list of genre scores\n",
    "for genre, color in [('rock', p4k_red), ('electronic', 'purple'), ('experimental', 'pink')]:\n",
    "    pl.hist(grouped.get_group(genre), bins=101, color=color);\n",
    "\n",
    "pl.legend(('Rock', 'Electronic', 'Experimental'))\n",
    "pl.title('Histogram of Review Scores by Genre')\n",
    "pl.xlabel('Score')\n",
    "pl.ylabel('Number of Reviews');"
   ]
  },
  {
   "cell_type": "markdown",
   "metadata": {},
   "source": [
    "## ANOVA Test on the Top 3 Most Reviewed Genres\n",
    "\n",
    "Our null hypothesis ($H_0$) is that the mean scores of rock, electronic, and experimental music are equal.\n",
    "\n",
    "Our alternative hypothesis ($H_1$) is that at least one mean score of rock, electronic, and experimental music differs."
   ]
  },
  {
   "cell_type": "code",
   "execution_count": 12,
   "metadata": {
    "scrolled": true
   },
   "outputs": [
    {
     "name": "stdout",
     "output_type": "stream",
     "text": [
      "F: 74.075346\n",
      "p: 0.000000\n"
     ]
    }
   ],
   "source": [
    "top_3_genre_scores = [grouped.get_group(genre) for genre in ['rock', 'electronic', 'experimental']]\n",
    "\n",
    "# Perform an ANOVA test using the stats package\n",
    "F, p = stats.f_oneway(*top_3_genre_scores)\n",
    "print('F: %f\\np: %f' % (F, p))"
   ]
  },
  {
   "cell_type": "markdown",
   "metadata": {},
   "source": [
    "$P\\approx 0 < 0.05$, so we reject $H_0$. There is sufficient evidence to claim at a $0.05$ significance level that the mean review score between rock, electronic, and experimental music differs."
   ]
  },
  {
   "cell_type": "markdown",
   "metadata": {},
   "source": [
    "## What was the highest rated genre of each year?\n",
    "\n",
    "The \"global\" genre was the highest rated on average for most years. The second highest rated was \"experimental,\" which was the highest rated in 2001, 2002, and 2007."
   ]
  },
  {
   "cell_type": "code",
   "execution_count": 13,
   "metadata": {},
   "outputs": [
    {
     "data": {
      "text/html": [
       "<div>\n",
       "<style scoped>\n",
       "    .dataframe tbody tr th:only-of-type {\n",
       "        vertical-align: middle;\n",
       "    }\n",
       "\n",
       "    .dataframe tbody tr th {\n",
       "        vertical-align: top;\n",
       "    }\n",
       "\n",
       "    .dataframe thead th {\n",
       "        text-align: right;\n",
       "    }\n",
       "</style>\n",
       "<table border=\"1\" class=\"dataframe\">\n",
       "  <thead>\n",
       "    <tr style=\"text-align: right;\">\n",
       "      <th></th>\n",
       "      <th>Genre</th>\n",
       "      <th>Mean Score</th>\n",
       "    </tr>\n",
       "    <tr>\n",
       "      <th>Published Year</th>\n",
       "      <th></th>\n",
       "      <th></th>\n",
       "    </tr>\n",
       "  </thead>\n",
       "  <tbody>\n",
       "    <tr>\n",
       "      <th>1999</th>\n",
       "      <td>electronic</td>\n",
       "      <td>6.797101</td>\n",
       "    </tr>\n",
       "    <tr>\n",
       "      <th>1999</th>\n",
       "      <td>experimental</td>\n",
       "      <td>6.707143</td>\n",
       "    </tr>\n",
       "    <tr>\n",
       "      <th>1999</th>\n",
       "      <td>folk/country</td>\n",
       "      <td>7.766667</td>\n",
       "    </tr>\n",
       "    <tr>\n",
       "      <th>1999</th>\n",
       "      <td>global</td>\n",
       "      <td>8.150000</td>\n",
       "    </tr>\n",
       "    <tr>\n",
       "      <th>1999</th>\n",
       "      <td>jazz</td>\n",
       "      <td>7.466667</td>\n",
       "    </tr>\n",
       "    <tr>\n",
       "      <th>1999</th>\n",
       "      <td>metal</td>\n",
       "      <td>6.518182</td>\n",
       "    </tr>\n",
       "    <tr>\n",
       "      <th>1999</th>\n",
       "      <td>pop/r&amp;b</td>\n",
       "      <td>6.400000</td>\n",
       "    </tr>\n",
       "    <tr>\n",
       "      <th>1999</th>\n",
       "      <td>rap</td>\n",
       "      <td>8.333333</td>\n",
       "    </tr>\n",
       "    <tr>\n",
       "      <th>1999</th>\n",
       "      <td>rock</td>\n",
       "      <td>6.700714</td>\n",
       "    </tr>\n",
       "  </tbody>\n",
       "</table>\n",
       "</div>"
      ],
      "text/plain": [
       "                       Genre  Mean Score\n",
       "Published Year                          \n",
       "1999              electronic    6.797101\n",
       "1999            experimental    6.707143\n",
       "1999            folk/country    7.766667\n",
       "1999                  global    8.150000\n",
       "1999                    jazz    7.466667\n",
       "1999                   metal    6.518182\n",
       "1999                 pop/r&b    6.400000\n",
       "1999                     rap    8.333333\n",
       "1999                    rock    6.700714"
      ]
     },
     "execution_count": 13,
     "metadata": {},
     "output_type": "execute_result"
    }
   ],
   "source": [
    "# Group by publish year and genre and find the mean score for each group\n",
    "mean_genre_scores_by_year = reviews.merge(genres, on='reviewid').groupby(['pub_year', 'genre'])['score'].mean()\n",
    "mean_genre_scores_by_year_pd = pd.DataFrame(mean_genre_scores_by_year).reset_index()\n",
    "mean_genre_scores_by_year_pd.columns = ['Published Year', 'Genre', 'Mean Score']\n",
    "mean_genre_scores_by_year_pd.set_index('Published Year').head(9)"
   ]
  },
  {
   "cell_type": "code",
   "execution_count": 14,
   "metadata": {},
   "outputs": [
    {
     "data": {
      "text/html": [
       "<div>\n",
       "<style scoped>\n",
       "    .dataframe tbody tr th:only-of-type {\n",
       "        vertical-align: middle;\n",
       "    }\n",
       "\n",
       "    .dataframe tbody tr th {\n",
       "        vertical-align: top;\n",
       "    }\n",
       "\n",
       "    .dataframe thead th {\n",
       "        text-align: right;\n",
       "    }\n",
       "</style>\n",
       "<table border=\"1\" class=\"dataframe\">\n",
       "  <thead>\n",
       "    <tr style=\"text-align: right;\">\n",
       "      <th></th>\n",
       "      <th>Highest Rated Genre</th>\n",
       "    </tr>\n",
       "    <tr>\n",
       "      <th>Year Published</th>\n",
       "      <th></th>\n",
       "    </tr>\n",
       "  </thead>\n",
       "  <tbody>\n",
       "    <tr>\n",
       "      <th>1999</th>\n",
       "      <td>rap</td>\n",
       "    </tr>\n",
       "    <tr>\n",
       "      <th>2000</th>\n",
       "      <td>folk/country</td>\n",
       "    </tr>\n",
       "    <tr>\n",
       "      <th>2001</th>\n",
       "      <td>experimental</td>\n",
       "    </tr>\n",
       "    <tr>\n",
       "      <th>2002</th>\n",
       "      <td>experimental</td>\n",
       "    </tr>\n",
       "    <tr>\n",
       "      <th>2003</th>\n",
       "      <td>global</td>\n",
       "    </tr>\n",
       "    <tr>\n",
       "      <th>2004</th>\n",
       "      <td>global</td>\n",
       "    </tr>\n",
       "    <tr>\n",
       "      <th>2005</th>\n",
       "      <td>global</td>\n",
       "    </tr>\n",
       "    <tr>\n",
       "      <th>2006</th>\n",
       "      <td>jazz</td>\n",
       "    </tr>\n",
       "    <tr>\n",
       "      <th>2007</th>\n",
       "      <td>experimental</td>\n",
       "    </tr>\n",
       "    <tr>\n",
       "      <th>2008</th>\n",
       "      <td>global</td>\n",
       "    </tr>\n",
       "    <tr>\n",
       "      <th>2009</th>\n",
       "      <td>global</td>\n",
       "    </tr>\n",
       "    <tr>\n",
       "      <th>2010</th>\n",
       "      <td>jazz</td>\n",
       "    </tr>\n",
       "    <tr>\n",
       "      <th>2011</th>\n",
       "      <td>global</td>\n",
       "    </tr>\n",
       "    <tr>\n",
       "      <th>2012</th>\n",
       "      <td>folk/country</td>\n",
       "    </tr>\n",
       "    <tr>\n",
       "      <th>2013</th>\n",
       "      <td>jazz</td>\n",
       "    </tr>\n",
       "    <tr>\n",
       "      <th>2014</th>\n",
       "      <td>global</td>\n",
       "    </tr>\n",
       "    <tr>\n",
       "      <th>2015</th>\n",
       "      <td>jazz</td>\n",
       "    </tr>\n",
       "    <tr>\n",
       "      <th>2016</th>\n",
       "      <td>jazz</td>\n",
       "    </tr>\n",
       "    <tr>\n",
       "      <th>2017</th>\n",
       "      <td>rock</td>\n",
       "    </tr>\n",
       "  </tbody>\n",
       "</table>\n",
       "</div>"
      ],
      "text/plain": [
       "               Highest Rated Genre\n",
       "Year Published                    \n",
       "1999                           rap\n",
       "2000                  folk/country\n",
       "2001                  experimental\n",
       "2002                  experimental\n",
       "2003                        global\n",
       "2004                        global\n",
       "2005                        global\n",
       "2006                          jazz\n",
       "2007                  experimental\n",
       "2008                        global\n",
       "2009                        global\n",
       "2010                          jazz\n",
       "2011                        global\n",
       "2012                  folk/country\n",
       "2013                          jazz\n",
       "2014                        global\n",
       "2015                          jazz\n",
       "2016                          jazz\n",
       "2017                          rock"
      ]
     },
     "execution_count": 14,
     "metadata": {},
     "output_type": "execute_result"
    }
   ],
   "source": [
    "# Group by published year and aggregate finding the max genre of each year\n",
    "highest_genres = pd.DataFrame(mean_genre_scores_by_year.groupby(['pub_year']).agg(lambda data: data.idxmax()[1]))\n",
    "highest_genres = highest_genres.reset_index()\n",
    "highest_genres.columns = ['Year Published', 'Highest Rated Genre']\n",
    "highest_genres.set_index('Year Published', inplace=True)\n",
    "highest_genres"
   ]
  },
  {
   "cell_type": "markdown",
   "metadata": {},
   "source": [
    "# Reviews Over Time\n",
    "\n",
    "## How did the average review score change over the years?\n",
    "\n",
    "It appears that there was a slight increase in review scores over the years, but there only exists a very weak correlation between published date and score ($r=0.0463$).\n"
   ]
  },
  {
   "cell_type": "code",
   "execution_count": 15,
   "metadata": {
    "scrolled": true
   },
   "outputs": [],
   "source": [
    "# Resample the time series by every 6 months\n",
    "reviews['pub_date'] = pd.to_datetime(reviews['pub_date'])\n",
    "reviews_by_pub = reviews.set_index(['pub_date'])\n",
    "means_by_year = reviews_by_pub['score'].resample('6M').mean()"
   ]
  },
  {
   "cell_type": "code",
   "execution_count": 16,
   "metadata": {
    "scrolled": true
   },
   "outputs": [
    {
     "data": {
      "image/png": "[encoded data removed]",
      "text/plain": [
       "<Figure size 432x288 with 1 Axes>"
      ]
     },
     "metadata": {},
     "output_type": "display_data"
    }
   ],
   "source": [
    "pl.scatter(x=reviews_by_pub.index, y=reviews_by_pub['score'], alpha=0.04, s=1, color='black');\n",
    "pl.title('Review Score by Published Date')\n",
    "pl.xlabel('Published Date')\n",
    "pl.ylabel('Review Score')\n",
    "\n",
    "pl.plot(means_by_year, linewidth=1.5, color=p4k_red);"
   ]
  },
  {
   "cell_type": "code",
   "execution_count": 17,
   "metadata": {},
   "outputs": [
    {
     "data": {
      "text/plain": [
       "0.04634873968927449"
      ]
     },
     "execution_count": 17,
     "metadata": {},
     "output_type": "execute_result"
    }
   ],
   "source": [
    "# Convert the dates to timestamps for easy correlation calculation\n",
    "reviews_by_pub['timestamp'] = pd.to_numeric(reviews_by_pub.index)\n",
    "np.corrcoef(reviews_by_pub['timestamp'], reviews_by_pub['score'])[0, 1]"
   ]
  },
  {
   "cell_type": "markdown",
   "metadata": {},
   "source": [
    "# Labels\n",
    "\n",
    "## Which labels perform well on Pitchfork?\n",
    "\n",
    "In the top 20 labels with the most reviews with a score of at least 8, the majority are independent. Only 5 of the top 20 are from the 3 major labels (Universal/Sony/Warner) and labels owned by them."
   ]
  },
  {
   "cell_type": "code",
   "execution_count": 18,
   "metadata": {
    "scrolled": true
   },
   "outputs": [
    {
     "data": {
      "text/html": [
       "<div>\n",
       "<style scoped>\n",
       "    .dataframe tbody tr th:only-of-type {\n",
       "        vertical-align: middle;\n",
       "    }\n",
       "\n",
       "    .dataframe tbody tr th {\n",
       "        vertical-align: top;\n",
       "    }\n",
       "\n",
       "    .dataframe thead th {\n",
       "        text-align: right;\n",
       "    }\n",
       "</style>\n",
       "<table border=\"1\" class=\"dataframe\">\n",
       "  <thead>\n",
       "    <tr style=\"text-align: right;\">\n",
       "      <th></th>\n",
       "      <th># of 8+ Scores</th>\n",
       "    </tr>\n",
       "    <tr>\n",
       "      <th>Label</th>\n",
       "      <th></th>\n",
       "    </tr>\n",
       "  </thead>\n",
       "  <tbody>\n",
       "    <tr>\n",
       "      <th>matador</th>\n",
       "      <td>74</td>\n",
       "    </tr>\n",
       "    <tr>\n",
       "      <th>sub pop</th>\n",
       "      <td>72</td>\n",
       "    </tr>\n",
       "    <tr>\n",
       "      <th>domino</th>\n",
       "      <td>67</td>\n",
       "    </tr>\n",
       "    <tr>\n",
       "      <th>columbia</th>\n",
       "      <td>65</td>\n",
       "    </tr>\n",
       "    <tr>\n",
       "      <th>merge</th>\n",
       "      <td>62</td>\n",
       "    </tr>\n",
       "    <tr>\n",
       "      <th>warp</th>\n",
       "      <td>60</td>\n",
       "    </tr>\n",
       "    <tr>\n",
       "      <th>drag city</th>\n",
       "      <td>59</td>\n",
       "    </tr>\n",
       "    <tr>\n",
       "      <th>4ad</th>\n",
       "      <td>53</td>\n",
       "    </tr>\n",
       "    <tr>\n",
       "      <th>rhino</th>\n",
       "      <td>49</td>\n",
       "    </tr>\n",
       "    <tr>\n",
       "      <th>self-released</th>\n",
       "      <td>46</td>\n",
       "    </tr>\n",
       "  </tbody>\n",
       "</table>\n",
       "</div>"
      ],
      "text/plain": [
       "               # of 8+ Scores\n",
       "Label                        \n",
       "matador                    74\n",
       "sub pop                    72\n",
       "domino                     67\n",
       "columbia                   65\n",
       "merge                      62\n",
       "warp                       60\n",
       "drag city                  59\n",
       "4ad                        53\n",
       "rhino                      49\n",
       "self-released              46"
      ]
     },
     "execution_count": 18,
     "metadata": {},
     "output_type": "execute_result"
    }
   ],
   "source": [
    "# Group by reviews with a score greater than 8\n",
    "grouped = reviews[reviews['score'] >= 8].merge(labels, on='reviewid').groupby('label')\n",
    "\n",
    "highRatingsByLabel = pd.DataFrame(grouped.size().sort_values(ascending=False))\n",
    "highRatingsByLabel = highRatingsByLabel.reset_index()\n",
    "highRatingsByLabel.columns = ['Label', '# of 8+ Scores']\n",
    "highRatingsByLabel.set_index('Label', inplace=True)\n",
    "highRatingsByLabel.head(10)"
   ]
  },
  {
   "cell_type": "code",
   "execution_count": 19,
   "metadata": {
    "scrolled": true
   },
   "outputs": [
    {
     "data": {
      "image/png": "[encoded data removed]",
      "text/plain": [
       "<Figure size 576x288 with 1 Axes>"
      ]
     },
     "metadata": {},
     "output_type": "display_data"
    }
   ],
   "source": [
    "top20Labels = highRatingsByLabel['# of 8+ Scores'].head(20)\n",
    "\n",
    "independent=['matador', 'sub pop', 'domino', 'merge', 'warp', 'drag city', '4ad', 'self-released', 'mute', 'thrill jockey', 'astralwerks', 'numero group', 'light in the attic', 'xl', 'kranky']\n",
    "colors=['red' if (label in independent) else 'purple' for label in top20Labels.index]\n",
    "\n",
    "pl.figure(figsize=(8, 4))\n",
    "pl.bar(x=top20Labels.index, height=top20Labels, color=colors)\n",
    "pl.xticks(rotation=90)\n",
    "pl.title('Number of 8+ Scores by Label')\n",
    "pl.xlabel('Label')\n",
    "pl.ylabel('Number of 8+ Scores')\n",
    "pl.legend(('Independent Label', 'Major Label'));"
   ]
  },
  {
   "cell_type": "markdown",
   "metadata": {},
   "source": [
    "## Comparing Performance of Independent Labels vs. Major Labels\n",
    "\n",
    "We found that on average, at a $0.05$ significance level, music from independent labels tends to score higher than music from major labels ($P\\approx0$). This value could be slightly off due to the fact that we lacked reliable data for independent and major labels. This value also does not take into account whether or not a release was on a previously independent label which is now owned by a major label. All the data used for major labels is from the current day.\n",
    "\n",
    "\n",
    "Furthermore, the method used to figure out if a label is major or not is somewhat rudimentary. To find out of a label is major or not, the label is searched for in a text file of major labels. For the most part, it seems to work, but there are some labels that tend to be labelled incorrectly.\n",
    "\n",
    "\n",
    "It should also be noted that independent labels that are partnered with the Alternative Distribution Alliance (ADA) listed [here](https://en.wikipedia.org/wiki/Alternative_Distribution_Alliance) are not considered major in our analysis. Labels partnered with the ADA, which is owned by Warner Music Group, actually represent many top rated labels on Pitchfork (ex. Matador, Sub Pop, Domino, Merge, Warp). Including these labels as major could have affected the results, along with the fact that some independent labels end up being owned by major labels."
   ]
  },
  {
   "cell_type": "code",
   "execution_count": 20,
   "metadata": {},
   "outputs": [],
   "source": [
    "# Figures out of a label is independent or not and returns that value\n",
    "def is_independent(label):\n",
    "    if not label or len(label) <= 2:\n",
    "        return True\n",
    "    \n",
    "    regex = r'\\n' + label + r'[\\b\\s]'\n",
    "    for label_list in major_labels:\n",
    "        if re.search(regex, label_list, re.IGNORECASE):\n",
    "            return False\n",
    "    \n",
    "    return True"
   ]
  },
  {
   "cell_type": "code",
   "execution_count": 21,
   "metadata": {
    "scrolled": true
   },
   "outputs": [],
   "source": [
    "warner = open('./labels/warner.txt', 'r')\n",
    "universal = open('./labels/universal.txt', 'r')\n",
    "sony = open('./labels/sony.txt', 'r')\n",
    "\n",
    "def read_list(stream):\n",
    "    text = stream.read()\n",
    "    stream.close()\n",
    "    return text.lower()\n",
    "\n",
    "major_labels = np.array(list(map(read_list, [warner, universal, sony])))"
   ]
  },
  {
   "cell_type": "code",
   "execution_count": 22,
   "metadata": {},
   "outputs": [],
   "source": [
    "import re\n",
    "\n",
    "# Have a dict storing whether or not labels are independent or not\n",
    "label_dict = {}\n",
    "\n",
    "all_labels = reviews.merge(labels, on='reviewid').groupby('label').last().index\n",
    "for label in all_labels:\n",
    "    label_dict[label] = is_independent(label)\n",
    "\n",
    "label_df = pd.DataFrame(data={'label': list(label_dict.keys()), 'independent': list(label_dict.values())})\n",
    "label_df.set_index('label', inplace=True)\n",
    "label_df = label_df.merge(labels, on='label')"
   ]
  },
  {
   "cell_type": "code",
   "execution_count": 23,
   "metadata": {},
   "outputs": [
    {
     "data": {
      "text/html": [
       "<div>\n",
       "<style scoped>\n",
       "    .dataframe tbody tr th:only-of-type {\n",
       "        vertical-align: middle;\n",
       "    }\n",
       "\n",
       "    .dataframe tbody tr th {\n",
       "        vertical-align: top;\n",
       "    }\n",
       "\n",
       "    .dataframe thead th {\n",
       "        text-align: right;\n",
       "    }\n",
       "</style>\n",
       "<table border=\"1\" class=\"dataframe\">\n",
       "  <thead>\n",
       "    <tr style=\"text-align: right;\">\n",
       "      <th></th>\n",
       "      <th>reviewid</th>\n",
       "      <th>title</th>\n",
       "      <th>artist</th>\n",
       "      <th>url</th>\n",
       "      <th>score</th>\n",
       "      <th>best_new_music</th>\n",
       "      <th>author</th>\n",
       "      <th>author_type</th>\n",
       "      <th>pub_date</th>\n",
       "      <th>pub_weekday</th>\n",
       "      <th>pub_day</th>\n",
       "      <th>pub_month</th>\n",
       "      <th>pub_year</th>\n",
       "      <th>label</th>\n",
       "      <th>independent</th>\n",
       "    </tr>\n",
       "  </thead>\n",
       "  <tbody>\n",
       "    <tr>\n",
       "      <th>0</th>\n",
       "      <td>22703</td>\n",
       "      <td>mezzanine</td>\n",
       "      <td>massive attack</td>\n",
       "      <td>http://pitchfork.com/reviews/albums/22703-mezz...</td>\n",
       "      <td>9.3</td>\n",
       "      <td>0</td>\n",
       "      <td>nate patrin</td>\n",
       "      <td>contributor</td>\n",
       "      <td>2017-01-08</td>\n",
       "      <td>6</td>\n",
       "      <td>8</td>\n",
       "      <td>1</td>\n",
       "      <td>2017</td>\n",
       "      <td>virgin</td>\n",
       "      <td>False</td>\n",
       "    </tr>\n",
       "    <tr>\n",
       "      <th>1</th>\n",
       "      <td>22721</td>\n",
       "      <td>prelapsarian</td>\n",
       "      <td>krallice</td>\n",
       "      <td>http://pitchfork.com/reviews/albums/22721-prel...</td>\n",
       "      <td>7.9</td>\n",
       "      <td>0</td>\n",
       "      <td>zoe camp</td>\n",
       "      <td>contributor</td>\n",
       "      <td>2017-01-07</td>\n",
       "      <td>5</td>\n",
       "      <td>7</td>\n",
       "      <td>1</td>\n",
       "      <td>2017</td>\n",
       "      <td>hathenter</td>\n",
       "      <td>True</td>\n",
       "    </tr>\n",
       "    <tr>\n",
       "      <th>2</th>\n",
       "      <td>22659</td>\n",
       "      <td>all of them naturals</td>\n",
       "      <td>uranium club</td>\n",
       "      <td>http://pitchfork.com/reviews/albums/22659-all-...</td>\n",
       "      <td>7.3</td>\n",
       "      <td>0</td>\n",
       "      <td>david glickman</td>\n",
       "      <td>contributor</td>\n",
       "      <td>2017-01-07</td>\n",
       "      <td>5</td>\n",
       "      <td>7</td>\n",
       "      <td>1</td>\n",
       "      <td>2017</td>\n",
       "      <td>fashionable idiots</td>\n",
       "      <td>True</td>\n",
       "    </tr>\n",
       "    <tr>\n",
       "      <th>3</th>\n",
       "      <td>22659</td>\n",
       "      <td>all of them naturals</td>\n",
       "      <td>uranium club</td>\n",
       "      <td>http://pitchfork.com/reviews/albums/22659-all-...</td>\n",
       "      <td>7.3</td>\n",
       "      <td>0</td>\n",
       "      <td>david glickman</td>\n",
       "      <td>contributor</td>\n",
       "      <td>2017-01-07</td>\n",
       "      <td>5</td>\n",
       "      <td>7</td>\n",
       "      <td>1</td>\n",
       "      <td>2017</td>\n",
       "      <td>static shock</td>\n",
       "      <td>True</td>\n",
       "    </tr>\n",
       "    <tr>\n",
       "      <th>4</th>\n",
       "      <td>22661</td>\n",
       "      <td>first songs</td>\n",
       "      <td>kleenex, liliput</td>\n",
       "      <td>http://pitchfork.com/reviews/albums/22661-firs...</td>\n",
       "      <td>9.0</td>\n",
       "      <td>1</td>\n",
       "      <td>jenn pelly</td>\n",
       "      <td>associate reviews editor</td>\n",
       "      <td>2017-01-06</td>\n",
       "      <td>4</td>\n",
       "      <td>6</td>\n",
       "      <td>1</td>\n",
       "      <td>2017</td>\n",
       "      <td>kill rock stars</td>\n",
       "      <td>True</td>\n",
       "    </tr>\n",
       "  </tbody>\n",
       "</table>\n",
       "</div>"
      ],
      "text/plain": [
       "   reviewid                 title            artist  \\\n",
       "0     22703             mezzanine    massive attack   \n",
       "1     22721          prelapsarian          krallice   \n",
       "2     22659  all of them naturals      uranium club   \n",
       "3     22659  all of them naturals      uranium club   \n",
       "4     22661           first songs  kleenex, liliput   \n",
       "\n",
       "                                                 url  score  best_new_music  \\\n",
       "0  http://pitchfork.com/reviews/albums/22703-mezz...    9.3               0   \n",
       "1  http://pitchfork.com/reviews/albums/22721-prel...    7.9               0   \n",
       "2  http://pitchfork.com/reviews/albums/22659-all-...    7.3               0   \n",
       "3  http://pitchfork.com/reviews/albums/22659-all-...    7.3               0   \n",
       "4  http://pitchfork.com/reviews/albums/22661-firs...    9.0               1   \n",
       "\n",
       "           author               author_type   pub_date  pub_weekday  pub_day  \\\n",
       "0     nate patrin               contributor 2017-01-08            6        8   \n",
       "1        zoe camp               contributor 2017-01-07            5        7   \n",
       "2  david glickman               contributor 2017-01-07            5        7   \n",
       "3  david glickman               contributor 2017-01-07            5        7   \n",
       "4      jenn pelly  associate reviews editor 2017-01-06            4        6   \n",
       "\n",
       "   pub_month  pub_year               label  independent  \n",
       "0          1      2017              virgin        False  \n",
       "1          1      2017           hathenter         True  \n",
       "2          1      2017  fashionable idiots         True  \n",
       "3          1      2017        static shock         True  \n",
       "4          1      2017     kill rock stars         True  "
      ]
     },
     "execution_count": 23,
     "metadata": {},
     "output_type": "execute_result"
    }
   ],
   "source": [
    "reviews_by_label = reviews.merge(label_df, on='reviewid')\n",
    "reviews_by_label.head()"
   ]
  },
  {
   "cell_type": "code",
   "execution_count": 24,
   "metadata": {
    "scrolled": true
   },
   "outputs": [
    {
     "data": {
      "image/png": "[encoded data removed]",
      "text/plain": [
       "<Figure size 432x288 with 1 Axes>"
      ]
     },
     "metadata": {},
     "output_type": "display_data"
    }
   ],
   "source": [
    "# Separate reviews by major and independent labels\n",
    "reviews_major = reviews_by_label[reviews_by_label['independent'] == False]\n",
    "reviews_indie = reviews_by_label[reviews_by_label['independent'] == True]\n",
    "\n",
    "pl.hist(reviews_indie['score'], bins=101, color=p4k_red)\n",
    "pl.hist(reviews_major['score'], bins=101, color='purple');\n",
    "\n",
    "pl.legend(('Independent Labels', 'Major Labels'));\n",
    "pl.title('Histogram of Review Scores by Label Type')\n",
    "pl.xlabel('Score')\n",
    "pl.ylabel('Number of Reviews');"
   ]
  },
  {
   "cell_type": "code",
   "execution_count": 25,
   "metadata": {},
   "outputs": [
    {
     "name": "stdout",
     "output_type": "stream",
     "text": [
      "Major label mean score: 6.804308\n",
      "Major label sample standard deviation: 1.678621\n",
      "\n",
      "Independent label mean score: 7.035129\n",
      "Independent label sample standard deviation: 1.230415\n"
     ]
    }
   ],
   "source": [
    "print('Major label mean score: %f' % np.mean(reviews_major['score']))\n",
    "print('Major label sample standard deviation: %f' % np.std(reviews_major['score'], ddof=1) + '\\n')\n",
    "print('Independent label mean score: %f' % np.mean(reviews_indie['score']))\n",
    "print('Independent label sample standard deviation: %f' % np.std(reviews_indie['score'], ddof=1))"
   ]
  },
  {
   "cell_type": "markdown",
   "metadata": {},
   "source": [
    "## Independent Z-Test on Major and Independent Groups\n",
    "\n",
    "Let $\\mu_1$ be the population mean of major label review scores.\n",
    "\n",
    "Let $\\mu_2$ be the population mean of independent label review scores.\n",
    "\n",
    "Our null hypothesis ($H_0$) is that the mean of independent label scores ($\\mu_2$) is no greater than the mean of major label scores ($\\mu_1$).\n",
    "\n",
    "Our alternative hypothesis ($H_1$) is that the mean of independent label scores ($\\mu_2$) is greater than the mean of major label scores ($\\mu_1$).\n",
    "\n",
    "$$H_0: \\mu_2 <= \\mu_1$$\n",
    "\n",
    "$$H_0: \\mu_2 - \\mu_1 <= 0$$\n",
    "\n",
    "$$H_1: \\mu_2 > \\mu_1$$\n",
    "\n",
    "$$H_1: \\mu_2 - \\mu_1 > 0$$\n",
    "\n",
    "$$\n",
    "z = \\frac{\\bar{x}_2  - \\bar{x}_1 - (\\mu_2 - \\mu_1)}{\\sqrt{\\frac{s_1^2}{n_1} + \\frac{s_2^2}{n_2}}} \\approx 6.99\n",
    "$$"
   ]
  },
  {
   "cell_type": "code",
   "execution_count": 26,
   "metadata": {},
   "outputs": [
    {
     "data": {
      "text/html": [
       "<div>\n",
       "<style scoped>\n",
       "    .dataframe tbody tr th:only-of-type {\n",
       "        vertical-align: middle;\n",
       "    }\n",
       "\n",
       "    .dataframe tbody tr th {\n",
       "        vertical-align: top;\n",
       "    }\n",
       "\n",
       "    .dataframe thead th {\n",
       "        text-align: right;\n",
       "    }\n",
       "</style>\n",
       "<table border=\"1\" class=\"dataframe\">\n",
       "  <thead>\n",
       "    <tr style=\"text-align: right;\">\n",
       "      <th></th>\n",
       "      <th>Group</th>\n",
       "      <th>$n$</th>\n",
       "      <th>x̄</th>\n",
       "      <th>$s$</th>\n",
       "    </tr>\n",
       "  </thead>\n",
       "  <tbody>\n",
       "    <tr>\n",
       "      <th>1</th>\n",
       "      <td>Major</td>\n",
       "      <td>2809</td>\n",
       "      <td>6.804308</td>\n",
       "      <td>1.678621</td>\n",
       "    </tr>\n",
       "    <tr>\n",
       "      <th>2</th>\n",
       "      <td>Independent</td>\n",
       "      <td>17353</td>\n",
       "      <td>7.035129</td>\n",
       "      <td>1.230415</td>\n",
       "    </tr>\n",
       "  </tbody>\n",
       "</table>\n",
       "</div>"
      ],
      "text/plain": [
       "         Group    $n$        x̄       $s$\n",
       "1        Major   2809  6.804308  1.678621\n",
       "2  Independent  17353  7.035129  1.230415"
      ]
     },
     "execution_count": 26,
     "metadata": {},
     "output_type": "execute_result"
    }
   ],
   "source": [
    "pd.DataFrame(index=[1, 2], data={\n",
    "    'Group': ['Major', 'Independent'],\n",
    "    '$n$': [len(reviews_major), len(reviews_indie)],\n",
    "    'x̄': [np.mean(reviews_major['score']), np.mean(reviews_indie['score'])],\n",
    "    '$s$': [np.std(reviews_major['score'], ddof=1), np.std(reviews_indie['score'], ddof=1)]\n",
    "})"
   ]
  },
  {
   "cell_type": "code",
   "execution_count": 27,
   "metadata": {},
   "outputs": [
    {
     "name": "stdout",
     "output_type": "stream",
     "text": [
      "P(z > 6.990221) = 0.000000 < 0.05\n"
     ]
    }
   ],
   "source": [
    "from scipy.stats import norm\n",
    "\n",
    "x_1, x_2 = [np.mean(reviews_major['score']), np.mean(reviews_indie['score'])]\n",
    "n_1, n_2 = [len(reviews_major), len(reviews_indie)]\n",
    "s_1, s_2 = [np.std(reviews_major['score'], ddof=1), np.std(reviews_indie['score'], ddof=1)]\n",
    "\n",
    "# Calculate the z-statistic and find probability of getting a value against the null hypothesis\n",
    "z = (x_2 - x_1) / np.sqrt(((s_1 ** 2) / n_1) + ((s_2 ** 2) / n_2))\n",
    "print('P(z > %f) = %f < 0.05' % (z, norm.cdf(-z)))"
   ]
  },
  {
   "cell_type": "markdown",
   "metadata": {},
   "source": [
    "$P(z > 6.990221) \\approx 0 < 0.05$, so we reject $H_0$. There is sufficient evidence to claim at a $0.05$ significance level that the mean review score for music from independent labels is greater than the mean review score for music from major labels."
   ]
  },
  {
   "cell_type": "markdown",
   "metadata": {},
   "source": [
    "# Conclusion\n",
    "\n",
    "Pitchfork tends to heavily review rock music and music from independent labels. In our analysis, we found that Pitchfork, on average, tends to rate music from independent labels higher than music from major labels. This result could be inaccurate due to the lack of data on music labels.\n",
    "\n",
    "In addition, over 18 years, the average review score has remained relatively constant. With only a very weak correlation between score and when the review was published. Moreover, despite some critics claiming that Pitchfork publishes intentionally contrarian reviews, the average review score is about 7.0. Although individual contributors may write reviews that go against popular opinion, on average, it appears that Pitchfork reviews are actually somewhat generous in their scoring."
   ]
  }
 ],
 "metadata": {
  "kernelspec": {
   "display_name": "Python 3",
   "language": "python",
   "name": "python3"
  },
  "language_info": {
   "codemirror_mode": {
    "name": "ipython",
    "version": 3
   },
   "file_extension": ".py",
   "mimetype": "text/x-python",
   "name": "python",
   "nbconvert_exporter": "python",
   "pygments_lexer": "ipython3",
   "version": "3.6.5"
  }
 },
 "nbformat": 4,
 "nbformat_minor": 2
}
